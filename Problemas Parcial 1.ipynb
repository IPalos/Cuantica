{
 "cells": [
  {
   "cell_type": "code",
   "execution_count": 3,
   "metadata": {},
   "outputs": [],
   "source": [
    "import math\n",
    "import scipy.constants as sc\n",
    "import sympy as sm\n",
    "import sympy.physics as phy"
   ]
  },
  {
   "cell_type": "markdown",
   "metadata": {},
   "source": [
    "## 1. Calcular la longitud de onda de deBroglie para:\n",
    " 1. Un electrón moviendose a 10⁷ cm/seg\n",
    " 2. Un electrón cuya energía cinética es de 5 eV\n",
    " 3. Un electrón cuya energía cinética es de 5 Mev\n",
    " 4. Un neutrón térmico a temperatura ambiente -> $e=\\frac{k_B T}{2}$\n",
    " 5. Un protón de 5 MeV de energía cinética\n",
    " 6. Una pelota de golf de 100gr moviendose a 30 m/seg\n",
    " 7. Una pelota de beisbol de 150g cuya energía es de 5 Mev\n",
    " 8. La tierra "
   ]
  },
  {
   "cell_type": "markdown",
   "metadata": {},
   "source": [
    "### Solución:\n",
    "<a id=\"ondadeBroglie\"></a>\n",
    "\n",
    "La longitud de onda de deBroglie está dada por:\n",
    "\n",
    "\\begin{align}\n",
    "\\boxed{\\large{\\lambda = \\frac{h}{p}} = \\frac{h}{\\sqrt{2mK}}}\n",
    "\\end{align}\n",
    "\n",
    "Ingresando la masa y su momento, podemos obtener la longitud de onda de cada objeto"
   ]
  },
  {
   "cell_type": "code",
   "execution_count": 27,
   "metadata": {},
   "outputs": [],
   "source": [
    "#masa del electron en eV/c^2\n",
    "me= .511e6\n",
    "#masa neutron en eV/c^2\n",
    "mn= 938e6 \n",
    "#unidades: eV/s\n",
    "h=4.135e-15\n",
    "#constante de boltzman\n",
    "k=8.61e-5\n",
    "\n",
    "def calculate_deBroglie_wave(mass=0,mass_units=\"kg\",energy=0):\n",
    "    #unidades: ev/c^2\n",
    "    m=mass\n",
    "    if mass_units == \"kg\":\n",
    "        m*=1.78e-36\n",
    "    return \"{:.2e}\".format((h/math.sqrt(2*mass*energy))*3e8)"
   ]
  },
  {
   "cell_type": "code",
   "execution_count": 29,
   "metadata": {},
   "outputs": [
    {
     "data": {
      "text/plain": [
       "0.012915000000000001"
      ]
     },
     "execution_count": 29,
     "metadata": {},
     "output_type": "execute_result"
    }
   ],
   "source": [
    "neutronEnergy=(300*k)/2\n",
    "neutronEnergy"
   ]
  },
  {
   "cell_type": "code",
   "execution_count": 30,
   "metadata": {},
   "outputs": [
    {
     "name": "stdout",
     "output_type": "stream",
     "text": [
      "2. La longitud de onda de deBroglie es: 5.49e-10 m\n",
      "3. La longitud de onda de deBroglie es: 5.49e-13 m\n",
      "4. La longitud de onda de deBroglie es: 2.52e-10 m\n",
      "5. La longitud de onda de deBroglie es: 1.28e-14 m\n",
      "6. La longitud de onda de deBroglie es: 1.24e-06 m\n",
      "7. La longitud de onda de deBroglie es: 1.01e-09 m\n",
      "8. La longitud de onda de deBroglie es: 3.41e-43 m\n"
     ]
    }
   ],
   "source": [
    "print(\"2. La longitud de onda de deBroglie es: \"+str(calculate_deBroglie_wave(me,\"eV\",5))+\" m\")\n",
    "print(\"3. La longitud de onda de deBroglie es: \"+str(calculate_deBroglie_wave(me,\"eV\",5e6))+\" m\")\n",
    "print(\"4. La longitud de onda de deBroglie es: \"+str(calculate_deBroglie_wave(mn,\"eV\",neutronEnergy))+\" m\")\n",
    "print(\"5. La longitud de onda de deBroglie es: \"+str(calculate_deBroglie_wave(mn,\"eV\",5e6))+\" m\")\n",
    "print(\"6. La longitud de onda de deBroglie es: \"+str(calculate_deBroglie_wave(.1,\"kg\",5))+\" m\")\n",
    "print(\"7. La longitud de onda de deBroglie es: \"+str(calculate_deBroglie_wave(.15,\"eV\",5e6))+\" m\")\n",
    "print(\"8. La longitud de onda de deBroglie es: \"+str(calculate_deBroglie_wave(6e24,\"kg\",1.1e48))+\" m\")\n"
   ]
  },
  {
   "cell_type": "markdown",
   "metadata": {},
   "source": [
    "## 2. Determine la relación de dispersión para las ondas de deBroglie $\\omega^2 = \\omega_0^2+c^2k^2$, a partir de ella determine la expresión relativista para la energía de la partícula $E^2 = E_0^2+c^2p^2$. ¿Cuales son las hipótesis planteadas por deBroglie para llegar a estas relaciones?"
   ]
  },
  {
   "cell_type": "markdown",
   "metadata": {},
   "source": [
    "### Solución\n",
    "\n",
    "https://scihub.bban.top/10.1119/1.12140\n",
    "\n",
    "Utilizando la formula ${E=mc^2}$, y ${E=h\\nu}$, tenemos que la frecuencia asociada a una masa en reposo es\n",
    "\\begin{align}\n",
    "h\\nu_0 = m_0c^2\n",
    "\\end{align}\n",
    "\n",
    "Ahora, si aplicamos una transformada de Lorenz a $\\nu_0$ en un marco de referencia con velocidad relativa $v= \\beta c$ entonces su velocidad de fase es $V_f=\\frac{c}{\\beta}$. Y su velocidad de grupo es $V_g=v = \\beta c$\n",
    "\n"
   ]
  },
  {
   "cell_type": "markdown",
   "metadata": {},
   "source": [
    "## 3. ¿La longitud de onda de deBroglie puede ser menor que una dimension lineal de la partícula? ¿Mayor? ¿existe una relación entre ambas?\n",
    "\n",
    "#### Solución\n",
    "\n",
    "Sabemos que la onda de deBroglie depende de la masa, y de la energía cinética que poseé por la formula presentada en el [problema1](#ondadeBroglie). Por otro lado, sabemos que la densidad es:\n",
    "\n",
    "\\begin{align}\n",
    "\\delta = \\frac{m}{V} \\therefore m =\\frac{\\delta}{V}\n",
    "\\end{align}\n",
    "\n",
    "Sustituyendo el valor de la masa en la onda de deBroglie tenemos\n",
    "\n",
    "\\begin{align}\n",
    "\\lambda = \\frac{h}{\\sqrt{\\delta V K}}\n",
    "\\end{align}\n",
    "\n",
    "Por lo que tenemos una relación entre el volumen del objeto, y su longitud de onda.\n",
    "Pero también tenemos un problema: si la energía cinética del objeto tiende a 0, la longitud de onda de deBroglie se vuelve muy grande, y tiende a $\\infty$"
   ]
  },
  {
   "cell_type": "markdown",
   "metadata": {},
   "source": [
    "## 4. La longitud de onda de deBroglie asociada a una partícula ¿Depende del observador? ¿Que efecto tiene esto en la llamada dualidad onda-partícula?\n",
    "\n",
    "#### Solución\n",
    "Si, si depende del observador, ya que el momento que poseé la partícula depende del marco de referencia, si el observador se mueve junto a la partícula, entonces el momento de ella sería 0."
   ]
  },
  {
   "cell_type": "markdown",
   "metadata": {},
   "source": [
    "## 5. ¿Que sucede con la longitud de onda de deBroglie cuando $m \\to \\infty$?\n",
    "\n",
    "#### Solución\n",
    "Entonces la longitud de onda de deBroglie $\\lambda \\to 0$, por lo que en escala macroscópica (Es decir, para $m \\gg h$ no se muestra dicho fenómeno"
   ]
  },
  {
   "cell_type": "markdown",
   "metadata": {},
   "source": [
    "## 6. Una bala de 40g viaja a 1000 m/seg ¿Por qué no se manifiesta su naturaleza ondulatoria por medio de efectos de difracción?\n",
    "\n",
    "#### Solución\n",
    " Una bala tiene una longitud de onda de ${{1.65}_{x10}}^{-35} m$, es decir, del orden de tamaño de una distancia de Planck, y no tenemos instrumentos necesarios para medir distancias tan pequeñas"
   ]
  },
  {
   "cell_type": "code",
   "execution_count": 3,
   "metadata": {},
   "outputs": [
    {
     "data": {
      "text/plain": [
       "1.65651751e-35"
      ]
     },
     "execution_count": 3,
     "metadata": {},
     "output_type": "execute_result"
    }
   ],
   "source": [
    "# Calculo para obtener la longitud de la onda de deBroglie para el problema 6\n",
    "m=.04\n",
    "v=1000\n",
    "k=m*v*v/2\n",
    "l = sc.h/(math.sqrt(m*2*k))\n",
    "l"
   ]
  },
  {
   "cell_type": "markdown",
   "metadata": {},
   "source": [
    "## 7. Usando la hipótesis de deBroglie, recupere los mismos resultados del modelo de Bohr, es decir:\n",
    "1. El electrón sólamente puede estar en determinadas órbitas\n",
    "2. La energía del electrón sólamente puede tomar valores discretos\n",
    "3. El momento angular también está discretizado\n",
    "\n",
    "#### Solución\n",
    "\n",
    "1. Como el electrón tiene una onda asociada y está orbitando al núcleo, entonces la longitud de la trayectoria del electrón tiene que ser un múltiplo entero de su longitud de onda ($Trayectoria = 2\\pi r = n \\lambda \\quad \\forall \\: n \\! \\in \\! \\mathbb{N}$) Por lo que sólamente puede encontrarse en trayectorias, cuyo radio satisfaga la condición\n",
    "\\begin{align}\n",
    "\\boxed {r_n = \\frac{n\\lambda_n}{2 \\pi}}\n",
    "\\end{align}\n",
    "\n",
    "2. Utilizando la ecuación del [problema 1](#ondadeBroglie), tenemos que:\n",
    "\\begin{align}\n",
    "\\boxed{K_n = \\frac{h^2}{{\\lambda_n}^2 2m}}\n",
    "\\end{align}\n",
    "\n",
    "En donde $\\lambda_n$ toma valores discretos, por lo tanto K también toma valores discretos\n",
    "\n",
    "3. Como el momento angular se escribe $L = r \\times P$, y como $r=r_n$ es discreto y $P = \\sqrt{2K_nm}$ también es discreto porque $K_n$ lo es, entonces L también es discreto.\n",
    "\n",
    "\n"
   ]
  },
  {
   "cell_type": "markdown",
   "metadata": {},
   "source": [
    "# 11. Pruebe que la función $\\Psi(\\vec{r},t) = Ae^{i(\\vec{k}\\cdot\\vec{r}-\\omega t)}$ es solución de la ecuación de Schröringer de partícula libre en 1D"
   ]
  },
  {
   "cell_type": "markdown",
   "metadata": {},
   "source": [
    "### Solución\n",
    "Para que una función sea solución a la ecuación de Schrödinger, tiene que cumplir:\n",
    "\n",
    "$-\\frac{\\hbar^{2}}{2 m} \\nabla^{2} \\psi(\\mathbf{r}, t)=i \\hbar \\frac{\\partial}{\\partial t} \\psi(\\mathbf{r}, t)$"
   ]
  },
  {
   "cell_type": "code",
   "execution_count": 11,
   "metadata": {},
   "outputs": [
    {
     "data": {
      "text/latex": [
       "$\\displaystyle - i e^{- i \\omega t} \\omega \\log{\\left(e \\right)}$"
      ],
      "text/plain": [
       "-I*e**(-I*omega*t)*omega*log(e)"
      ]
     },
     "execution_count": 11,
     "metadata": {},
     "output_type": "execute_result"
    }
   ],
   "source": [
    "om = sm.Symbol(\"omega\")\n",
    "t = sm.Symbol(\"t\")\n",
    "e = sm.Symbol(\"e\")\n",
    "f=e**(-sm.I*om*t)\n"
   ]
  },
  {
   "cell_type": "code",
   "execution_count": 23,
   "metadata": {},
   "outputs": [
    {
     "data": {
      "text/latex": [
       "$\\displaystyle \\frac{\\left(\\sqrt{154} x^{7} - 88 \\sqrt{154} x^{6} + 2112 \\sqrt{154} x^{5}\\right) e^{- \\frac{x}{8}}}{43599790080}$"
      ],
      "text/plain": [
       "(sqrt(154)*x**7 - 88*sqrt(154)*x**6 + 2112*sqrt(154)*x**5)*exp(-x/8)/43599790080"
      ]
     },
     "execution_count": 23,
     "metadata": {},
     "output_type": "execute_result"
    }
   ],
   "source": []
  },
  {
   "cell_type": "markdown",
   "metadata": {},
   "source": [
    "## Demostrar que el operador $\\hat{K} = \\frac{\\hat{P}^2}{2m}$ es un operador hermitiano"
   ]
  },
  {
   "cell_type": "markdown",
   "metadata": {},
   "source": [
    "### Solución\n",
    "\n",
    "#### Parte 1: Demostrar que $\\hat{P}$ es hermitiano:\n",
    "Para que un operador $\\hat{O}$ sea hermitiano, se tiene que cumplir la condición:\n",
    "\n",
    "\\begin{align}\n",
    "\\left(\\psi,\\hat{O} \\phi\\right) = \\left( \\hat{O}\\psi,\\phi \\right)\n",
    "\\end{align}\n",
    "\n",
    "entonces:\n",
    "\n",
    "\\begin{align}\n",
    "\\left(\\psi,\\hat{P} \\phi\\right) &= \\left(\\psi,-i\\hbar \\nabla \\phi\\right) \\newline\n",
    "{}&=-i\\hbar\\left(\\psi,\\phi\\right) \\newline\n",
    "{}&=-i\\hbar \\int \\psi^* \\nabla\\phi\n",
    "\\end{align}\n",
    "\n",
    "Como $\\nabla \\left(\\psi^* \\phi \\right) = \\phi \\nabla \\psi^* + \\psi^* \\nabla \\phi$, entonces\n",
    "\n",
    "\\begin{align}\n",
    "-i\\hbar \\int \\psi^*\\nabla\\phi&=-i\\hbar \\int \\left( \\underbrace{\\nabla(\\phi\\psi^* )}_0 -\\phi \\nabla \\psi^* \\right) \\newline\n",
    "&=\\int i\\hbar\\nabla \\psi^* \\newline\n",
    "&= \\left(i\\hbar\\nabla\\psi , \\phi \\right)\\newline\n",
    "&= \\left(\\hat{P}\\psi , \\phi \\right)\n",
    "\\end{align}\n",
    "\n",
    "\\begin{align}\n",
    "\\boxed{(\\psi,\\hat{P}\\phi) = (\\hat{P}\\psi,\\phi)}\n",
    "\\end{align}\n",
    "\n",
    "\n",
    "#### Parte 2: Demostrar que $\\hat{P^2}$ es hermitiano:\n",
    "\n",
    "En general, si un operador es hermitiano, también su cuadrado lo será, entonces tomemos un operador hermitiano arbitrario $\\hat{A}$, y veamos que sucede si se eleva al cuadrado.\n",
    "\n",
    "\\begin{align}\n",
    "(\\psi,\\hat{A}^2 \\phi) = {}\n",
    "(\\psi,\\hat{A}\\hat{A} \\phi) \\underbrace{=}_{\\text{porque $\\hat{A}$ es hermitiano}} (\\hat{A}\\psi,\\hat{A}\\phi) = (\\hat{A}^2\\psi, \\phi)\n",
    "\\end{align}\n",
    "\n",
    "\n",
    "#### Parte 3: Demostrar que $\\hat{K}$ es hermitiano.\n",
    "\n",
    "Como $\\hat{P}^2$ es hermitiano, y $\\hat{K}$ es una constante real multiplicada por un operador hermitiano, entonces $\\hat{K}$ es hermitiano"
   ]
  },
  {
   "cell_type": "code",
   "execution_count": null,
   "metadata": {},
   "outputs": [],
   "source": []
  }
 ],
 "metadata": {
  "kernelspec": {
   "display_name": "Python 3",
   "language": "python",
   "name": "python3"
  },
  "language_info": {
   "codemirror_mode": {
    "name": "ipython",
    "version": 3
   },
   "file_extension": ".py",
   "mimetype": "text/x-python",
   "name": "python",
   "nbconvert_exporter": "python",
   "pygments_lexer": "ipython3",
   "version": "3.7.4"
  }
 },
 "nbformat": 4,
 "nbformat_minor": 4
}
